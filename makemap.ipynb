{
 "cells": [
  {
   "cell_type": "code",
   "execution_count": 1,
   "metadata": {},
   "outputs": [],
   "source": [
    "import geopandas as gpd\n",
    "import pandas as pd\n",
    "import matplotlib as mpl\n",
    "import USERAUTH\n",
    "import flickr_api\n",
    "from flickr_api.api import flickr\n",
    "import json"
   ]
  },
  {
   "cell_type": "markdown",
   "metadata": {},
   "source": [
    "The inputs"
   ]
  },
  {
   "cell_type": "code",
   "execution_count": 2,
   "metadata": {},
   "outputs": [],
   "source": [
    "city = gpd.read_file(\"arrondissements.shp\") ## the shapefile of the place of interest\n",
    "citycrs = 'epsg:27561' ## CRS of the place of interest\n",
    "cityhex = gpd.read_file(\"paris_100m_hex.shp\") ## hex grid shapefile\n",
    "hexrad = '0.05' ## radius of hex in km as string\n",
    "\n",
    "city = city.to_crs({'init': citycrs}) \n"
   ]
  },
  {
   "cell_type": "markdown",
   "metadata": {},
   "source": [
    "The functions"
   ]
  },
  {
   "cell_type": "code",
   "execution_count": 3,
   "metadata": {},
   "outputs": [],
   "source": [
    "def centroid_coord(df): ## returns the input GeoDataFrame with added columns for lat and long in geodesic\n",
    "    cent = df[['id','geometry']]\n",
    "    cent = cent.to_crs({'init': 'epsg:4326'})\n",
    "    cent['geometry'] = cent['geometry'].centroid\n",
    "    cent['lat'] = cent['geometry'].apply(lambda p: p.y);\n",
    "    cent['long'] = cent['geometry'].apply(lambda p: p.x);\n",
    "    cent = cent[['id','lat','long']]\n",
    "    return df.merge(cent, on='id') "
   ]
  },
  {
   "cell_type": "code",
   "execution_count": 4,
   "metadata": {},
   "outputs": [],
   "source": [
    "def hexpic(latd,long,rad): ## returns the number of pictures taken in integer form for a given lat, long, and radius,\n",
    "    \n",
    "    hex_pics_json = flickr.photos.search(privacy_filter = 1, accuracy = 16, lat=latd, lon=long, radius = rad, format= \"json\", nojsoncallback = 1)\n",
    "    hexpics = json.loads(hex_pics_json)\n",
    "    return int(hexpics[\"photos\"][\"total\"])"
   ]
  },
  {
   "cell_type": "code",
   "execution_count": 5,
   "metadata": {},
   "outputs": [],
   "source": [
    "def hydrate_hex(df, rad): ## returns the input GeoDataFrame with added column for number of picture. 'rad' is radius in km\n",
    "    nrow = df.lat.count()\n",
    "    df['pic'] = 0\n",
    "    for x in range(0, nrow):\n",
    "        df.loc[x,'pic'] = hexpic(df.loc[x,'lat'], df.loc[x,'long'], rad)\n",
    "    return df"
   ]
  },
  {
   "cell_type": "code",
   "execution_count": 6,
   "metadata": {},
   "outputs": [
    {
     "data": {
      "text/html": [
       "<div>\n",
       "<style scoped>\n",
       "    .dataframe tbody tr th:only-of-type {\n",
       "        vertical-align: middle;\n",
       "    }\n",
       "\n",
       "    .dataframe tbody tr th {\n",
       "        vertical-align: top;\n",
       "    }\n",
       "\n",
       "    .dataframe thead th {\n",
       "        text-align: right;\n",
       "    }\n",
       "</style>\n",
       "<table border=\"1\" class=\"dataframe\">\n",
       "  <thead>\n",
       "    <tr style=\"text-align: right;\">\n",
       "      <th></th>\n",
       "      <th>fid</th>\n",
       "      <th>left</th>\n",
       "      <th>top</th>\n",
       "      <th>right</th>\n",
       "      <th>bottom</th>\n",
       "      <th>id</th>\n",
       "      <th>geometry</th>\n",
       "      <th>lat</th>\n",
       "      <th>long</th>\n",
       "    </tr>\n",
       "  </thead>\n",
       "  <tbody>\n",
       "    <tr>\n",
       "      <th>0</th>\n",
       "      <td>1.0</td>\n",
       "      <td>602319.415266</td>\n",
       "      <td>132938.716906</td>\n",
       "      <td>602434.88532</td>\n",
       "      <td>132838.716906</td>\n",
       "      <td>38811</td>\n",
       "      <td>POLYGON ((602319.415 132888.717, 602348.283 13...</td>\n",
       "      <td>48.896419</td>\n",
       "      <td>2.368927</td>\n",
       "    </tr>\n",
       "    <tr>\n",
       "      <th>1</th>\n",
       "      <td>2.0</td>\n",
       "      <td>602319.415266</td>\n",
       "      <td>133238.716906</td>\n",
       "      <td>602434.88532</td>\n",
       "      <td>133138.716906</td>\n",
       "      <td>38808</td>\n",
       "      <td>POLYGON ((602319.415 133188.717, 602348.283 13...</td>\n",
       "      <td>48.899117</td>\n",
       "      <td>2.368929</td>\n",
       "    </tr>\n",
       "    <tr>\n",
       "      <th>2</th>\n",
       "      <td>3.0</td>\n",
       "      <td>602319.415266</td>\n",
       "      <td>133138.716906</td>\n",
       "      <td>602434.88532</td>\n",
       "      <td>133038.716906</td>\n",
       "      <td>38809</td>\n",
       "      <td>POLYGON ((602319.415 133088.717, 602348.283 13...</td>\n",
       "      <td>48.898218</td>\n",
       "      <td>2.368928</td>\n",
       "    </tr>\n",
       "    <tr>\n",
       "      <th>3</th>\n",
       "      <td>4.0</td>\n",
       "      <td>602319.415266</td>\n",
       "      <td>133438.716906</td>\n",
       "      <td>602434.88532</td>\n",
       "      <td>133338.716906</td>\n",
       "      <td>38806</td>\n",
       "      <td>POLYGON ((602319.415 133388.717, 602348.283 13...</td>\n",
       "      <td>48.900916</td>\n",
       "      <td>2.368930</td>\n",
       "    </tr>\n",
       "    <tr>\n",
       "      <th>4</th>\n",
       "      <td>5.0</td>\n",
       "      <td>602319.415266</td>\n",
       "      <td>133338.716906</td>\n",
       "      <td>602434.88532</td>\n",
       "      <td>133238.716906</td>\n",
       "      <td>38807</td>\n",
       "      <td>POLYGON ((602319.415 133288.717, 602348.283 13...</td>\n",
       "      <td>48.900016</td>\n",
       "      <td>2.368929</td>\n",
       "    </tr>\n",
       "  </tbody>\n",
       "</table>\n",
       "</div>"
      ],
      "text/plain": [
       "   fid           left            top         right         bottom     id  \\\n",
       "0  1.0  602319.415266  132938.716906  602434.88532  132838.716906  38811   \n",
       "1  2.0  602319.415266  133238.716906  602434.88532  133138.716906  38808   \n",
       "2  3.0  602319.415266  133138.716906  602434.88532  133038.716906  38809   \n",
       "3  4.0  602319.415266  133438.716906  602434.88532  133338.716906  38806   \n",
       "4  5.0  602319.415266  133338.716906  602434.88532  133238.716906  38807   \n",
       "\n",
       "                                            geometry        lat      long  \n",
       "0  POLYGON ((602319.415 132888.717, 602348.283 13...  48.896419  2.368927  \n",
       "1  POLYGON ((602319.415 133188.717, 602348.283 13...  48.899117  2.368929  \n",
       "2  POLYGON ((602319.415 133088.717, 602348.283 13...  48.898218  2.368928  \n",
       "3  POLYGON ((602319.415 133388.717, 602348.283 13...  48.900916  2.368930  \n",
       "4  POLYGON ((602319.415 133288.717, 602348.283 13...  48.900016  2.368929  "
      ]
     },
     "execution_count": 6,
     "metadata": {},
     "output_type": "execute_result"
    }
   ],
   "source": [
    "cityhex = centroid_coord(cityhex);\n",
    "cityhex.head()"
   ]
  },
  {
   "cell_type": "code",
   "execution_count": null,
   "metadata": {},
   "outputs": [],
   "source": [
    "cityhex = hydrate_hex(cityhex,hexrad)\n",
    "cityhex.head()"
   ]
  },
  {
   "cell_type": "code",
   "execution_count": null,
   "metadata": {},
   "outputs": [],
   "source": []
  }
 ],
 "metadata": {
  "kernelspec": {
   "display_name": "Python 3",
   "language": "python",
   "name": "python3"
  },
  "language_info": {
   "codemirror_mode": {
    "name": "ipython",
    "version": 3
   },
   "file_extension": ".py",
   "mimetype": "text/x-python",
   "name": "python",
   "nbconvert_exporter": "python",
   "pygments_lexer": "ipython3",
   "version": "3.6.7"
  }
 },
 "nbformat": 4,
 "nbformat_minor": 2
}
