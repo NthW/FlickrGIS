{
 "cells": [
  {
   "cell_type": "markdown",
   "metadata": {},
   "source": [
    "# The following notebook shows the Flickr api GIS project created by Nathan Wies and Kazuto Nishimori\n",
    "## The aim of this code is to find interesting trends in spatial Flickr data"
   ]
  },
  {
   "cell_type": "code",
   "execution_count": 32,
   "metadata": {},
   "outputs": [],
   "source": [
    "\"\"\"\n",
    "Code written by Nathan Wies and Kazuto Nishimori\n",
    "1/11/20\n",
    "\"\"\"\n",
    "\n",
    "#Initialize api\n",
    "\n",
    "import USERAUTH\n",
    "import flickr_api\n",
    "from flickr_api.api import flickr\n",
    "import geopandas as gpd"
   ]
  },
  {
   "cell_type": "markdown",
   "metadata": {},
   "source": [
    "### Using the search method to pull data\n",
    "#### Link to method documentation: https://www.flickr.com/services/api/flickr.photos.search.html"
   ]
  },
  {
   "cell_type": "code",
   "execution_count": null,
   "metadata": {},
   "outputs": [],
   "source": [
    "flickr.photos.search()"
   ]
  },
  {
   "cell_type": "code",
   "execution_count": 25,
   "metadata": {},
   "outputs": [
    {
     "data": {
      "text/plain": [
       "[Photo(id=b'46017406855', title=b'IMG_8837'), Photo(id=b'46879262952', title=b'IMG_8845-2'), Photo(id=b'46017407615', title=b'IMG_8882-2'), Photo(id=b'46879263942', title=b'IMG_8884-2'), Photo(id=b'46879264452', title=b'IMG_8886-2'), Photo(id=b'46017408085', title=b'IMG_8887-2'), Photo(id=b'46879264742', title=b'IMG_8903-2'), Photo(id=b'46017408215', title=b'IMG_8904-2'), Photo(id=b'39967042933', title=b'IMG_8923-2'), Photo(id=b'46017408335', title=b'IMG_8936-2'), Photo(id=b'46931485221', title=b'IMG_8937-2'), Photo(id=b'39967043393', title=b'IMG_8965-2'), Photo(id=b'46931485821', title=b'IMG_8996-2'), Photo(id=b'33056068218', title=b'IMG_9001-2'), Photo(id=b'46931486201', title=b'IMG_9002-2'), Photo(id=b'33056068768', title=b'IMG_9030-2'), Photo(id=b'46931486361', title=b'IMG_9032-2'), Photo(id=b'33056069328', title=b'IMG_9381'), Photo(id=b'46931486661', title=b'IMG_9417'), Photo(id=b'33056069908', title=b'IMG_9419'), Photo(id=b'46931486931', title=b'IMG_9422'), Photo(id=b'46931487041', title=b'IMG_9429'), Photo(id=b'46931487191', title=b'IMG_9450'), Photo(id=b'46931487411', title=b'IMG_9476'), Photo(id=b'33056071198', title=b'IMG_9484'), Photo(id=b'46931487671', title=b'IMG_9506'), Photo(id=b'33056071538', title=b'IMG_9510'), Photo(id=b'33056071718', title=b'IMG_9523'), Photo(id=b'46931487981', title=b'IMG_9520'), Photo(id=b'33056072248', title=b'IMG_9534'), Photo(id=b'46931488251', title=b'IMG_9529'), Photo(id=b'33056072878', title=b'IMG_9567'), Photo(id=b'39967050253', title=b'IMG_9591'), Photo(id=b'33056073748', title=b'IMG_9584'), Photo(id=b'39967051173', title=b'IMG_9599'), Photo(id=b'33056074778', title=b'IMG_9604'), Photo(id=b'39967053503', title=b'IMG_9611'), Photo(id=b'33056076798', title=b'IMG_9617'), Photo(id=b'39967054213', title=b'IMG_9624'), Photo(id=b'39967054673', title=b'IMG_9646'), Photo(id=b'39967055253', title=b'IMG_9714'), Photo(id=b'46017413125', title=b'IMG_8206-2'), Photo(id=b'46017413795', title=b'IMG_8205-2'), Photo(id=b'33056080058', title=b'IMG_8496'), Photo(id=b'33056080778', title=b'IMG_8499'), Photo(id=b'46017415165', title=b'IMG_8501'), Photo(id=b'33056081688', title=b'IMG_8629-2'), Photo(id=b'46017415845', title=b'IMG_8630-2'), Photo(id=b'33056082638', title=b'IMG_8626-2'), Photo(id=b'46017417245', title=b'IMG_8764'), Photo(id=b'33056084708', title=b'IMG_9860'), Photo(id=b'46017418595', title=b'IMG_9010-2'), Photo(id=b'46017419335', title=b'IMG_9008-2'), Photo(id=b'33056086798', title=b'IMG_8993-2'), Photo(id=b'46017420665', title=b'IMG_8962-2'), Photo(id=b'46017422185', title=b'IMG_8985-2'), Photo(id=b'33056089108', title=b'IMG_8749'), Photo(id=b'33056089478', title=b'IMG_0057'), Photo(id=b'33056089858', title=b'IMG_8195-2'), Photo(id=b'46017425345', title=b'IMG_0049'), Photo(id=b'46017425755', title=b'IMG_0030'), Photo(id=b'46931498041', title=b'IMG_0016'), Photo(id=b'46017426385', title=b'IMG_9946'), Photo(id=b'46017427195', title=b'IMG_9942'), Photo(id=b'46931499911', title=b'IMG_9922'), Photo(id=b'46017428905', title=b'IMG_9916'), Photo(id=b'46017429935', title=b'IMG_9915'), Photo(id=b'46017430505', title=b'IMG_9891'), Photo(id=b'46017431325', title=b'IMG_9800'), Photo(id=b'46017431785', title=b'IMG_0039'), Photo(id=b'46202335124', title=b'IMG_7582'), Photo(id=b'46927205951', title=b'IMG_7576'), Photo(id=b'46202335664', title=b'IMG_7593'), Photo(id=b'46012922115', title=b'IMG_7601'), Photo(id=b'46927206111', title=b'IMG_7603'), Photo(id=b'46012922465', title=b'IMG_7608'), Photo(id=b'46927206321', title=b'IMG_7611'), Photo(id=b'46012922995', title=b'IMG_7646'), Photo(id=b'46927206571', title=b'IMG_7642'), Photo(id=b'46012923795', title=b'IMG_7661'), Photo(id=b'46927206721', title=b'IMG_7738'), Photo(id=b'46012924445', title=b'IMG_7803'), Photo(id=b'46927206851', title=b'IMG_7823'), Photo(id=b'46875047362', title=b'IMG_7835'), Photo(id=b'46927207071', title=b'IMG_7841'), Photo(id=b'46875047662', title=b'IMG_7849'), Photo(id=b'46927207121', title=b'IMG_7864'), Photo(id=b'46875047822', title=b'IMG_7886'), Photo(id=b'46927207251', title=b'IMG_7893'), Photo(id=b'46875048032', title=b'IMG_8128'), Photo(id=b'46927207511', title=b'IMG_8129'), Photo(id=b'46875048332', title=b'IMG_8131'), Photo(id=b'46875048422', title=b'IMG_8132'), Photo(id=b'46927207841', title=b'IMG_8133'), Photo(id=b'46875048822', title=b'IMG_8138'), Photo(id=b'46927208011', title=b'IMG_8140'), Photo(id=b'46875049132', title=b'IMG_8144'), Photo(id=b'46927208171', title=b'IMG_8146'), Photo(id=b'46875049512', title=b'IMG_8149'), Photo(id=b'46927208371', title=b'IMG_8150')];Info(page=1, perpage=100, pages=5, total=489)"
      ]
     },
     "execution_count": 25,
     "metadata": {},
     "output_type": "execute_result"
    }
   ],
   "source": [
    "#this method finds all photos associated with a user and attempts to find the geodata\n",
    "def toymethod():\n",
    "    user = flickr_api.Person.findByUserName(\"tomquirkphoto\")\n",
    "    photos = user.getPhotos()\n",
    "    for photo in photos:\n",
    "        print(flickr.photos.geo.getLocation(photo_id = photo[\"id\"]))\n",
    "        \n",
    "        \n",
    "        "
   ]
  },
  {
   "cell_type": "code",
   "execution_count": 30,
   "metadata": {},
   "outputs": [
    {
     "name": "stdout",
     "output_type": "stream",
     "text": [
      "b'<?xml version=\"1.0\" encoding=\"utf-8\" ?>\\n<rsp stat=\"fail\">\\n\\t<err code=\"2\" msg=\"Photo has no location information.\" />\\n</rsp>\\n'\n",
      "b'<?xml version=\"1.0\" encoding=\"utf-8\" ?>\\n<rsp stat=\"fail\">\\n\\t<err code=\"2\" msg=\"Photo has no location information.\" />\\n</rsp>\\n'\n",
      "b'<?xml version=\"1.0\" encoding=\"utf-8\" ?>\\n<rsp stat=\"fail\">\\n\\t<err code=\"2\" msg=\"Photo has no location information.\" />\\n</rsp>\\n'\n",
      "b'<?xml version=\"1.0\" encoding=\"utf-8\" ?>\\n<rsp stat=\"fail\">\\n\\t<err code=\"2\" msg=\"Photo has no location information.\" />\\n</rsp>\\n'\n",
      "b'<?xml version=\"1.0\" encoding=\"utf-8\" ?>\\n<rsp stat=\"fail\">\\n\\t<err code=\"2\" msg=\"Photo has no location information.\" />\\n</rsp>\\n'\n",
      "b'<?xml version=\"1.0\" encoding=\"utf-8\" ?>\\n<rsp stat=\"fail\">\\n\\t<err code=\"2\" msg=\"Photo has no location information.\" />\\n</rsp>\\n'\n",
      "b'<?xml version=\"1.0\" encoding=\"utf-8\" ?>\\n<rsp stat=\"fail\">\\n\\t<err code=\"2\" msg=\"Photo has no location information.\" />\\n</rsp>\\n'\n",
      "b'<?xml version=\"1.0\" encoding=\"utf-8\" ?>\\n<rsp stat=\"fail\">\\n\\t<err code=\"2\" msg=\"Photo has no location information.\" />\\n</rsp>\\n'\n",
      "b'<?xml version=\"1.0\" encoding=\"utf-8\" ?>\\n<rsp stat=\"fail\">\\n\\t<err code=\"2\" msg=\"Photo has no location information.\" />\\n</rsp>\\n'\n",
      "b'<?xml version=\"1.0\" encoding=\"utf-8\" ?>\\n<rsp stat=\"fail\">\\n\\t<err code=\"2\" msg=\"Photo has no location information.\" />\\n</rsp>\\n'\n",
      "b'<?xml version=\"1.0\" encoding=\"utf-8\" ?>\\n<rsp stat=\"fail\">\\n\\t<err code=\"2\" msg=\"Photo has no location information.\" />\\n</rsp>\\n'\n",
      "b'<?xml version=\"1.0\" encoding=\"utf-8\" ?>\\n<rsp stat=\"fail\">\\n\\t<err code=\"2\" msg=\"Photo has no location information.\" />\\n</rsp>\\n'\n",
      "b'<?xml version=\"1.0\" encoding=\"utf-8\" ?>\\n<rsp stat=\"fail\">\\n\\t<err code=\"2\" msg=\"Photo has no location information.\" />\\n</rsp>\\n'\n",
      "b'<?xml version=\"1.0\" encoding=\"utf-8\" ?>\\n<rsp stat=\"fail\">\\n\\t<err code=\"2\" msg=\"Photo has no location information.\" />\\n</rsp>\\n'\n",
      "b'<?xml version=\"1.0\" encoding=\"utf-8\" ?>\\n<rsp stat=\"fail\">\\n\\t<err code=\"2\" msg=\"Photo has no location information.\" />\\n</rsp>\\n'\n",
      "b'<?xml version=\"1.0\" encoding=\"utf-8\" ?>\\n<rsp stat=\"fail\">\\n\\t<err code=\"2\" msg=\"Photo has no location information.\" />\\n</rsp>\\n'\n",
      "b'<?xml version=\"1.0\" encoding=\"utf-8\" ?>\\n<rsp stat=\"fail\">\\n\\t<err code=\"2\" msg=\"Photo has no location information.\" />\\n</rsp>\\n'\n",
      "b'<?xml version=\"1.0\" encoding=\"utf-8\" ?>\\n<rsp stat=\"fail\">\\n\\t<err code=\"2\" msg=\"Photo has no location information.\" />\\n</rsp>\\n'\n",
      "b'<?xml version=\"1.0\" encoding=\"utf-8\" ?>\\n<rsp stat=\"fail\">\\n\\t<err code=\"2\" msg=\"Photo has no location information.\" />\\n</rsp>\\n'\n",
      "b'<?xml version=\"1.0\" encoding=\"utf-8\" ?>\\n<rsp stat=\"fail\">\\n\\t<err code=\"2\" msg=\"Photo has no location information.\" />\\n</rsp>\\n'\n",
      "b'<?xml version=\"1.0\" encoding=\"utf-8\" ?>\\n<rsp stat=\"fail\">\\n\\t<err code=\"2\" msg=\"Photo has no location information.\" />\\n</rsp>\\n'\n",
      "b'<?xml version=\"1.0\" encoding=\"utf-8\" ?>\\n<rsp stat=\"fail\">\\n\\t<err code=\"2\" msg=\"Photo has no location information.\" />\\n</rsp>\\n'\n",
      "b'<?xml version=\"1.0\" encoding=\"utf-8\" ?>\\n<rsp stat=\"fail\">\\n\\t<err code=\"2\" msg=\"Photo has no location information.\" />\\n</rsp>\\n'\n",
      "b'<?xml version=\"1.0\" encoding=\"utf-8\" ?>\\n<rsp stat=\"fail\">\\n\\t<err code=\"2\" msg=\"Photo has no location information.\" />\\n</rsp>\\n'\n",
      "b'<?xml version=\"1.0\" encoding=\"utf-8\" ?>\\n<rsp stat=\"fail\">\\n\\t<err code=\"2\" msg=\"Photo has no location information.\" />\\n</rsp>\\n'\n",
      "b'<?xml version=\"1.0\" encoding=\"utf-8\" ?>\\n<rsp stat=\"fail\">\\n\\t<err code=\"2\" msg=\"Photo has no location information.\" />\\n</rsp>\\n'\n",
      "b'<?xml version=\"1.0\" encoding=\"utf-8\" ?>\\n<rsp stat=\"fail\">\\n\\t<err code=\"2\" msg=\"Photo has no location information.\" />\\n</rsp>\\n'\n",
      "b'<?xml version=\"1.0\" encoding=\"utf-8\" ?>\\n<rsp stat=\"fail\">\\n\\t<err code=\"2\" msg=\"Photo has no location information.\" />\\n</rsp>\\n'\n",
      "b'<?xml version=\"1.0\" encoding=\"utf-8\" ?>\\n<rsp stat=\"fail\">\\n\\t<err code=\"2\" msg=\"Photo has no location information.\" />\\n</rsp>\\n'\n",
      "b'<?xml version=\"1.0\" encoding=\"utf-8\" ?>\\n<rsp stat=\"fail\">\\n\\t<err code=\"2\" msg=\"Photo has no location information.\" />\\n</rsp>\\n'\n",
      "b'<?xml version=\"1.0\" encoding=\"utf-8\" ?>\\n<rsp stat=\"fail\">\\n\\t<err code=\"2\" msg=\"Photo has no location information.\" />\\n</rsp>\\n'\n",
      "b'<?xml version=\"1.0\" encoding=\"utf-8\" ?>\\n<rsp stat=\"fail\">\\n\\t<err code=\"2\" msg=\"Photo has no location information.\" />\\n</rsp>\\n'\n",
      "b'<?xml version=\"1.0\" encoding=\"utf-8\" ?>\\n<rsp stat=\"fail\">\\n\\t<err code=\"2\" msg=\"Photo has no location information.\" />\\n</rsp>\\n'\n",
      "b'<?xml version=\"1.0\" encoding=\"utf-8\" ?>\\n<rsp stat=\"fail\">\\n\\t<err code=\"2\" msg=\"Photo has no location information.\" />\\n</rsp>\\n'\n",
      "b'<?xml version=\"1.0\" encoding=\"utf-8\" ?>\\n<rsp stat=\"fail\">\\n\\t<err code=\"2\" msg=\"Photo has no location information.\" />\\n</rsp>\\n'\n",
      "b'<?xml version=\"1.0\" encoding=\"utf-8\" ?>\\n<rsp stat=\"fail\">\\n\\t<err code=\"2\" msg=\"Photo has no location information.\" />\\n</rsp>\\n'\n",
      "b'<?xml version=\"1.0\" encoding=\"utf-8\" ?>\\n<rsp stat=\"fail\">\\n\\t<err code=\"2\" msg=\"Photo has no location information.\" />\\n</rsp>\\n'\n",
      "b'<?xml version=\"1.0\" encoding=\"utf-8\" ?>\\n<rsp stat=\"fail\">\\n\\t<err code=\"2\" msg=\"Photo has no location information.\" />\\n</rsp>\\n'\n",
      "b'<?xml version=\"1.0\" encoding=\"utf-8\" ?>\\n<rsp stat=\"fail\">\\n\\t<err code=\"2\" msg=\"Photo has no location information.\" />\\n</rsp>\\n'\n",
      "b'<?xml version=\"1.0\" encoding=\"utf-8\" ?>\\n<rsp stat=\"fail\">\\n\\t<err code=\"2\" msg=\"Photo has no location information.\" />\\n</rsp>\\n'\n",
      "b'<?xml version=\"1.0\" encoding=\"utf-8\" ?>\\n<rsp stat=\"fail\">\\n\\t<err code=\"2\" msg=\"Photo has no location information.\" />\\n</rsp>\\n'\n",
      "b'<?xml version=\"1.0\" encoding=\"utf-8\" ?>\\n<rsp stat=\"fail\">\\n\\t<err code=\"2\" msg=\"Photo has no location information.\" />\\n</rsp>\\n'\n",
      "b'<?xml version=\"1.0\" encoding=\"utf-8\" ?>\\n<rsp stat=\"fail\">\\n\\t<err code=\"2\" msg=\"Photo has no location information.\" />\\n</rsp>\\n'\n",
      "b'<?xml version=\"1.0\" encoding=\"utf-8\" ?>\\n<rsp stat=\"fail\">\\n\\t<err code=\"2\" msg=\"Photo has no location information.\" />\\n</rsp>\\n'\n",
      "b'<?xml version=\"1.0\" encoding=\"utf-8\" ?>\\n<rsp stat=\"fail\">\\n\\t<err code=\"2\" msg=\"Photo has no location information.\" />\\n</rsp>\\n'\n",
      "b'<?xml version=\"1.0\" encoding=\"utf-8\" ?>\\n<rsp stat=\"fail\">\\n\\t<err code=\"2\" msg=\"Photo has no location information.\" />\\n</rsp>\\n'\n",
      "b'<?xml version=\"1.0\" encoding=\"utf-8\" ?>\\n<rsp stat=\"fail\">\\n\\t<err code=\"2\" msg=\"Photo has no location information.\" />\\n</rsp>\\n'\n",
      "b'<?xml version=\"1.0\" encoding=\"utf-8\" ?>\\n<rsp stat=\"fail\">\\n\\t<err code=\"2\" msg=\"Photo has no location information.\" />\\n</rsp>\\n'\n",
      "b'<?xml version=\"1.0\" encoding=\"utf-8\" ?>\\n<rsp stat=\"fail\">\\n\\t<err code=\"2\" msg=\"Photo has no location information.\" />\\n</rsp>\\n'\n",
      "b'<?xml version=\"1.0\" encoding=\"utf-8\" ?>\\n<rsp stat=\"fail\">\\n\\t<err code=\"2\" msg=\"Photo has no location information.\" />\\n</rsp>\\n'\n",
      "b'<?xml version=\"1.0\" encoding=\"utf-8\" ?>\\n<rsp stat=\"fail\">\\n\\t<err code=\"2\" msg=\"Photo has no location information.\" />\\n</rsp>\\n'\n",
      "b'<?xml version=\"1.0\" encoding=\"utf-8\" ?>\\n<rsp stat=\"fail\">\\n\\t<err code=\"2\" msg=\"Photo has no location information.\" />\\n</rsp>\\n'\n",
      "b'<?xml version=\"1.0\" encoding=\"utf-8\" ?>\\n<rsp stat=\"fail\">\\n\\t<err code=\"2\" msg=\"Photo has no location information.\" />\\n</rsp>\\n'\n",
      "b'<?xml version=\"1.0\" encoding=\"utf-8\" ?>\\n<rsp stat=\"fail\">\\n\\t<err code=\"2\" msg=\"Photo has no location information.\" />\\n</rsp>\\n'\n",
      "b'<?xml version=\"1.0\" encoding=\"utf-8\" ?>\\n<rsp stat=\"fail\">\\n\\t<err code=\"2\" msg=\"Photo has no location information.\" />\\n</rsp>\\n'\n",
      "b'<?xml version=\"1.0\" encoding=\"utf-8\" ?>\\n<rsp stat=\"fail\">\\n\\t<err code=\"2\" msg=\"Photo has no location information.\" />\\n</rsp>\\n'\n",
      "b'<?xml version=\"1.0\" encoding=\"utf-8\" ?>\\n<rsp stat=\"fail\">\\n\\t<err code=\"2\" msg=\"Photo has no location information.\" />\\n</rsp>\\n'\n",
      "b'<?xml version=\"1.0\" encoding=\"utf-8\" ?>\\n<rsp stat=\"fail\">\\n\\t<err code=\"2\" msg=\"Photo has no location information.\" />\\n</rsp>\\n'\n",
      "b'<?xml version=\"1.0\" encoding=\"utf-8\" ?>\\n<rsp stat=\"fail\">\\n\\t<err code=\"2\" msg=\"Photo has no location information.\" />\\n</rsp>\\n'\n",
      "b'<?xml version=\"1.0\" encoding=\"utf-8\" ?>\\n<rsp stat=\"fail\">\\n\\t<err code=\"2\" msg=\"Photo has no location information.\" />\\n</rsp>\\n'\n",
      "b'<?xml version=\"1.0\" encoding=\"utf-8\" ?>\\n<rsp stat=\"fail\">\\n\\t<err code=\"2\" msg=\"Photo has no location information.\" />\\n</rsp>\\n'\n",
      "b'<?xml version=\"1.0\" encoding=\"utf-8\" ?>\\n<rsp stat=\"fail\">\\n\\t<err code=\"2\" msg=\"Photo has no location information.\" />\\n</rsp>\\n'\n"
     ]
    },
    {
     "name": "stdout",
     "output_type": "stream",
     "text": [
      "b'<?xml version=\"1.0\" encoding=\"utf-8\" ?>\\n<rsp stat=\"fail\">\\n\\t<err code=\"2\" msg=\"Photo has no location information.\" />\\n</rsp>\\n'\n",
      "b'<?xml version=\"1.0\" encoding=\"utf-8\" ?>\\n<rsp stat=\"fail\">\\n\\t<err code=\"2\" msg=\"Photo has no location information.\" />\\n</rsp>\\n'\n",
      "b'<?xml version=\"1.0\" encoding=\"utf-8\" ?>\\n<rsp stat=\"fail\">\\n\\t<err code=\"2\" msg=\"Photo has no location information.\" />\\n</rsp>\\n'\n",
      "b'<?xml version=\"1.0\" encoding=\"utf-8\" ?>\\n<rsp stat=\"fail\">\\n\\t<err code=\"2\" msg=\"Photo has no location information.\" />\\n</rsp>\\n'\n",
      "b'<?xml version=\"1.0\" encoding=\"utf-8\" ?>\\n<rsp stat=\"fail\">\\n\\t<err code=\"2\" msg=\"Photo has no location information.\" />\\n</rsp>\\n'\n",
      "b'<?xml version=\"1.0\" encoding=\"utf-8\" ?>\\n<rsp stat=\"fail\">\\n\\t<err code=\"2\" msg=\"Photo has no location information.\" />\\n</rsp>\\n'\n",
      "b'<?xml version=\"1.0\" encoding=\"utf-8\" ?>\\n<rsp stat=\"fail\">\\n\\t<err code=\"2\" msg=\"Photo has no location information.\" />\\n</rsp>\\n'\n",
      "b'<?xml version=\"1.0\" encoding=\"utf-8\" ?>\\n<rsp stat=\"fail\">\\n\\t<err code=\"2\" msg=\"Photo has no location information.\" />\\n</rsp>\\n'\n",
      "b'<?xml version=\"1.0\" encoding=\"utf-8\" ?>\\n<rsp stat=\"fail\">\\n\\t<err code=\"2\" msg=\"Photo has no location information.\" />\\n</rsp>\\n'\n",
      "b'<?xml version=\"1.0\" encoding=\"utf-8\" ?>\\n<rsp stat=\"fail\">\\n\\t<err code=\"2\" msg=\"Photo has no location information.\" />\\n</rsp>\\n'\n",
      "b'<?xml version=\"1.0\" encoding=\"utf-8\" ?>\\n<rsp stat=\"fail\">\\n\\t<err code=\"2\" msg=\"Photo has no location information.\" />\\n</rsp>\\n'\n",
      "b'<?xml version=\"1.0\" encoding=\"utf-8\" ?>\\n<rsp stat=\"fail\">\\n\\t<err code=\"2\" msg=\"Photo has no location information.\" />\\n</rsp>\\n'\n",
      "b'<?xml version=\"1.0\" encoding=\"utf-8\" ?>\\n<rsp stat=\"fail\">\\n\\t<err code=\"2\" msg=\"Photo has no location information.\" />\\n</rsp>\\n'\n",
      "b'<?xml version=\"1.0\" encoding=\"utf-8\" ?>\\n<rsp stat=\"fail\">\\n\\t<err code=\"2\" msg=\"Photo has no location information.\" />\\n</rsp>\\n'\n",
      "b'<?xml version=\"1.0\" encoding=\"utf-8\" ?>\\n<rsp stat=\"fail\">\\n\\t<err code=\"2\" msg=\"Photo has no location information.\" />\\n</rsp>\\n'\n",
      "b'<?xml version=\"1.0\" encoding=\"utf-8\" ?>\\n<rsp stat=\"fail\">\\n\\t<err code=\"2\" msg=\"Photo has no location information.\" />\\n</rsp>\\n'\n",
      "b'<?xml version=\"1.0\" encoding=\"utf-8\" ?>\\n<rsp stat=\"fail\">\\n\\t<err code=\"2\" msg=\"Photo has no location information.\" />\\n</rsp>\\n'\n",
      "b'<?xml version=\"1.0\" encoding=\"utf-8\" ?>\\n<rsp stat=\"fail\">\\n\\t<err code=\"2\" msg=\"Photo has no location information.\" />\\n</rsp>\\n'\n",
      "b'<?xml version=\"1.0\" encoding=\"utf-8\" ?>\\n<rsp stat=\"fail\">\\n\\t<err code=\"2\" msg=\"Photo has no location information.\" />\\n</rsp>\\n'\n",
      "b'<?xml version=\"1.0\" encoding=\"utf-8\" ?>\\n<rsp stat=\"fail\">\\n\\t<err code=\"2\" msg=\"Photo has no location information.\" />\\n</rsp>\\n'\n",
      "b'<?xml version=\"1.0\" encoding=\"utf-8\" ?>\\n<rsp stat=\"fail\">\\n\\t<err code=\"2\" msg=\"Photo has no location information.\" />\\n</rsp>\\n'\n",
      "b'<?xml version=\"1.0\" encoding=\"utf-8\" ?>\\n<rsp stat=\"fail\">\\n\\t<err code=\"2\" msg=\"Photo has no location information.\" />\\n</rsp>\\n'\n",
      "b'<?xml version=\"1.0\" encoding=\"utf-8\" ?>\\n<rsp stat=\"fail\">\\n\\t<err code=\"2\" msg=\"Photo has no location information.\" />\\n</rsp>\\n'\n",
      "b'<?xml version=\"1.0\" encoding=\"utf-8\" ?>\\n<rsp stat=\"fail\">\\n\\t<err code=\"2\" msg=\"Photo has no location information.\" />\\n</rsp>\\n'\n",
      "b'<?xml version=\"1.0\" encoding=\"utf-8\" ?>\\n<rsp stat=\"fail\">\\n\\t<err code=\"2\" msg=\"Photo has no location information.\" />\\n</rsp>\\n'\n",
      "b'<?xml version=\"1.0\" encoding=\"utf-8\" ?>\\n<rsp stat=\"fail\">\\n\\t<err code=\"2\" msg=\"Photo has no location information.\" />\\n</rsp>\\n'\n",
      "b'<?xml version=\"1.0\" encoding=\"utf-8\" ?>\\n<rsp stat=\"fail\">\\n\\t<err code=\"2\" msg=\"Photo has no location information.\" />\\n</rsp>\\n'\n",
      "b'<?xml version=\"1.0\" encoding=\"utf-8\" ?>\\n<rsp stat=\"fail\">\\n\\t<err code=\"2\" msg=\"Photo has no location information.\" />\\n</rsp>\\n'\n",
      "b'<?xml version=\"1.0\" encoding=\"utf-8\" ?>\\n<rsp stat=\"fail\">\\n\\t<err code=\"2\" msg=\"Photo has no location information.\" />\\n</rsp>\\n'\n",
      "b'<?xml version=\"1.0\" encoding=\"utf-8\" ?>\\n<rsp stat=\"fail\">\\n\\t<err code=\"2\" msg=\"Photo has no location information.\" />\\n</rsp>\\n'\n",
      "b'<?xml version=\"1.0\" encoding=\"utf-8\" ?>\\n<rsp stat=\"fail\">\\n\\t<err code=\"2\" msg=\"Photo has no location information.\" />\\n</rsp>\\n'\n",
      "b'<?xml version=\"1.0\" encoding=\"utf-8\" ?>\\n<rsp stat=\"fail\">\\n\\t<err code=\"2\" msg=\"Photo has no location information.\" />\\n</rsp>\\n'\n",
      "b'<?xml version=\"1.0\" encoding=\"utf-8\" ?>\\n<rsp stat=\"fail\">\\n\\t<err code=\"2\" msg=\"Photo has no location information.\" />\\n</rsp>\\n'\n",
      "b'<?xml version=\"1.0\" encoding=\"utf-8\" ?>\\n<rsp stat=\"fail\">\\n\\t<err code=\"2\" msg=\"Photo has no location information.\" />\\n</rsp>\\n'\n",
      "b'<?xml version=\"1.0\" encoding=\"utf-8\" ?>\\n<rsp stat=\"fail\">\\n\\t<err code=\"2\" msg=\"Photo has no location information.\" />\\n</rsp>\\n'\n",
      "b'<?xml version=\"1.0\" encoding=\"utf-8\" ?>\\n<rsp stat=\"fail\">\\n\\t<err code=\"2\" msg=\"Photo has no location information.\" />\\n</rsp>\\n'\n",
      "b'<?xml version=\"1.0\" encoding=\"utf-8\" ?>\\n<rsp stat=\"fail\">\\n\\t<err code=\"2\" msg=\"Photo has no location information.\" />\\n</rsp>\\n'\n",
      "b'<?xml version=\"1.0\" encoding=\"utf-8\" ?>\\n<rsp stat=\"fail\">\\n\\t<err code=\"2\" msg=\"Photo has no location information.\" />\\n</rsp>\\n'\n"
     ]
    }
   ],
   "source": []
  },
  {
   "cell_type": "code",
   "execution_count": null,
   "metadata": {},
   "outputs": [],
   "source": []
  }
 ],
 "metadata": {
  "kernelspec": {
   "display_name": "Python 3",
   "language": "python",
   "name": "python3"
  },
  "language_info": {
   "codemirror_mode": {
    "name": "ipython",
    "version": 3
   },
   "file_extension": ".py",
   "mimetype": "text/x-python",
   "name": "python",
   "nbconvert_exporter": "python",
   "pygments_lexer": "ipython3",
   "version": "3.7.1"
  }
 },
 "nbformat": 4,
 "nbformat_minor": 2
}
